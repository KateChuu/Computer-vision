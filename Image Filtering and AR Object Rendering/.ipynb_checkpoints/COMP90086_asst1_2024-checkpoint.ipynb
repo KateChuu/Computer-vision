{
 "cells": [
  {
   "cell_type": "markdown",
   "metadata": {},
   "source": [
    "### The University of Melbourne, School of Computing and Information Systems\n",
    "# COMP90086 Computer Vision, 2024 Semester 2\n",
    "\n",
    "## Assignment 1"
   ]
  },
  {
   "cell_type": "markdown",
   "metadata": {},
   "source": [
    "**Student Name:**    Man-Hua, Chu\n",
    "\n",
    "**Student ID:**     1403798"
   ]
  },
  {
   "cell_type": "markdown",
   "metadata": {},
   "source": [
    "This iPython notebook is a template which you should use for your Assignment 1 submission. This file should be submitted at the **Assignment 1: Code** link on the LMS, along with any images needed to run your code.\n",
    "\n",
    "In addition to this file, you should submit a written report explaining your results at the **Assignment 1: Report** link on the LMS. Please see the assignment specification for details on what must be included in the report for each question.\n",
    "\n",
    "*Adding proper comments to your code is MANDATORY.*"
   ]
  },
  {
   "cell_type": "code",
   "execution_count": 4,
   "metadata": {},
   "outputs": [
    {
     "name": "stderr",
     "output_type": "stream",
     "text": [
      "[ WARN:0@70.428] global /private/var/folders/sy/f16zz6x50xz3113nwtb9bvq00000gp/T/abs_f6tvh9615u/croot/opencv-suite_1691620375715/work/modules/imgcodecs/src/loadsave.cpp (239) findDecoder imread_('./dog.png'): can't open/read file: check file path/integrity\n"
     ]
    },
    {
     "ename": "TypeError",
     "evalue": "'NoneType' object is not subscriptable",
     "output_type": "error",
     "traceback": [
      "\u001b[0;31m---------------------------------------------------------------------------\u001b[0m",
      "\u001b[0;31mTypeError\u001b[0m                                 Traceback (most recent call last)",
      "Cell \u001b[0;32mIn[4], line 16\u001b[0m\n\u001b[1;32m     14\u001b[0m \u001b[38;5;66;03m# Read a transparent PNG image\u001b[39;00m\n\u001b[1;32m     15\u001b[0m transparent_obj \u001b[38;5;241m=\u001b[39m cv2\u001b[38;5;241m.\u001b[39mimread(\u001b[38;5;124m'\u001b[39m\u001b[38;5;124m./dog.png\u001b[39m\u001b[38;5;124m'\u001b[39m, cv2\u001b[38;5;241m.\u001b[39mIMREAD_UNCHANGED)\n\u001b[0;32m---> 16\u001b[0m obj \u001b[38;5;241m=\u001b[39m \u001b[43mtransparent_obj\u001b[49m\u001b[43m[\u001b[49m\u001b[43m:\u001b[49m\u001b[43m,\u001b[49m\u001b[43m:\u001b[49m\u001b[43m,\u001b[49m\u001b[43m:\u001b[49m\u001b[38;5;241;43m3\u001b[39;49m\u001b[43m]\u001b[49m\n\u001b[1;32m     17\u001b[0m alpha \u001b[38;5;241m=\u001b[39m transparent_obj[:,:,\u001b[38;5;241m3\u001b[39m]\n\u001b[1;32m     19\u001b[0m \u001b[38;5;66;03m# Paste object onto background with transparency\u001b[39;00m\n",
      "\u001b[0;31mTypeError\u001b[0m: 'NoneType' object is not subscriptable"
     ]
    }
   ],
   "source": [
    "# Additional code for Question 2\n",
    "\n",
    "import numpy as np\n",
    "import cv2\n",
    "\n",
    "# Real-world heights for sample objects, in meters (m)\n",
    "img_dog = './dog.png'\n",
    "h_dog = 0.4\n",
    "img_statue = './statue.png'\n",
    "h_statue = 1.8\n",
    "img_elephant = './elephant.png'\n",
    "h_elephant = 3.5\n",
    "\n",
    "# Read a transparent PNG image\n",
    "transparent_obj = cv2.imread('./dog.png', cv2.IMREAD_UNCHANGED)\n",
    "obj = transparent_obj[:,:,:3]\n",
    "alpha = transparent_obj[:,:,3]\n",
    "\n",
    "# Paste object onto background with transparency\n",
    "bg = np.ones_like(obj, dtype=np.uint8) * 255\n",
    "alpha = np.tile(alpha[:,:,np.newaxis], (1,1,3)).astype(np.float32) / 255.0\n",
    "pasted_object = (obj.astype(np.float32) * alpha) + (bg.astype(np.float32) * (1-alpha))\n",
    "pasted_object = pasted_object.astype(np.uint8)"
   ]
  },
  {
   "cell_type": "markdown",
   "metadata": {},
   "source": [
    "### 1. Image filtering"
   ]
  },
  {
   "cell_type": "code",
   "execution_count": null,
   "metadata": {},
   "outputs": [],
   "source": []
  },
  {
   "cell_type": "markdown",
   "metadata": {},
   "source": [
    "### 2. AR object rendering"
   ]
  },
  {
   "cell_type": "code",
   "execution_count": null,
   "metadata": {},
   "outputs": [],
   "source": []
  }
 ],
 "metadata": {
  "kernelspec": {
   "display_name": "Python 3 (ipykernel)",
   "language": "python",
   "name": "python3"
  },
  "language_info": {
   "codemirror_mode": {
    "name": "ipython",
    "version": 3
   },
   "file_extension": ".py",
   "mimetype": "text/x-python",
   "name": "python",
   "nbconvert_exporter": "python",
   "pygments_lexer": "ipython3",
   "version": "3.9.18"
  }
 },
 "nbformat": 4,
 "nbformat_minor": 4
}
